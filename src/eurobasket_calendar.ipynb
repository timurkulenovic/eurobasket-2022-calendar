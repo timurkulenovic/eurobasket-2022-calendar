{
  "nbformat": 4,
  "nbformat_minor": 0,
  "metadata": {
    "colab": {
      "name": "links-to-table",
      "provenance": []
    },
    "kernelspec": {
      "name": "python3",
      "display_name": "Python 3"
    }
  },
  "cells": [
    {
      "cell_type": "code",
      "metadata": {
        "id": "DdVzDHCxmbiw"
      },
      "source": [
        "import requests\n",
        "from bs4 import BeautifulSoup\n",
        "from datetime import datetime\n",
        "import pandas as pd\n",
        "import re"
      ],
      "execution_count": 40,
      "outputs": []
    },
    {
      "cell_type": "markdown",
      "source": [
        "## Preliminary round"
      ],
      "metadata": {
        "id": "Cv9Gi8RjBMvJ"
      }
    },
    {
      "cell_type": "code",
      "metadata": {
        "id": "lp76qXlpn8jc"
      },
      "source": [
        "pr_data = []\n",
        "for group in [\"A\", \"B\", \"C\", \"D\"]:\n",
        "  site = f\"https://en.wikipedia.org/wiki/EuroBasket_2022_Group_{group}\"\n",
        "  response = requests.get(site)\n",
        "  html = response.content\n",
        "  soup = BeautifulSoup(html, \"html.parser\")\n",
        "  t = soup.find(\"i\").text\n",
        "  timezone = int(re.search(r'\\d+', t).group()) - 2\n",
        "\n",
        "  events = soup.find_all('div', {\"class\": \"vevent\"})\n",
        "  for event in events:\n",
        "    rows = event.find_all(\"tr\")\n",
        "    first_row = [td.text.strip() for td in rows[0].find_all(\"td\")]\n",
        "    date, h_team, a_team = first_row[0], first_row[1], first_row[3]\n",
        "    arena = rows[0].find(\"th\").text.strip()\n",
        "    start_time = rows[1].text.strip()\n",
        "    start_hour, start_minutes = start_time.split(\":\")\n",
        "    start_hour = int(start_hour) - timezone\n",
        "    end_hour = start_hour + 2\n",
        "    start_time = f\"{start_hour}:{start_minutes}\"\n",
        "    end_time = f\"{end_hour}:{start_minutes}\"\n",
        "\n",
        "    date_obj = datetime.strptime(date, '%d %B %Y')\n",
        "    date = date_obj.strftime(\"%m/%d/%Y\")\n",
        "\n",
        "    all_day_event = False\n",
        "    pr_data.append([f\"{h_team} vs. {a_team}\", date, date, start_time, end_time,\n",
        "                    all_day_event, arena])\n",
        "\n",
        "pr_data.append([\"Great Britain vs. Italy\", \"09/08/2022\", \"09/08/2022\", \"21:00\", \"23:00\", \n",
        "  False, \"Mediolanum Forum, Milan\"])\n",
        "df_pr = pd.DataFrame(data=pr_data, columns=[\"Subject\", \"Start Date\", \"End Date\",\n",
        "                                            \"Start Time\", \"End Time\",\n",
        "                                            \"All Day Event\", \"Location\"])\n",
        "\n",
        "df_pr.to_csv(\"../eurobasket_preliminary.csv\")"
      ],
      "execution_count": 52,
      "outputs": []
    },
    {
      "cell_type": "markdown",
      "source": [
        "## Knockout stage"
      ],
      "metadata": {
        "id": "Q1yEWaOHCTI6"
      }
    },
    {
      "cell_type": "code",
      "source": [
        "ks_data = []\n",
        "site = \"https://en.wikipedia.org/wiki/EuroBasket_2022_knockout_stage\"\n",
        "response = requests.get(site)\n",
        "html = response.content\n",
        "soup = BeautifulSoup(html, \"html.parser\")\n",
        "\n",
        "events = soup.find_all('div', {\"class\": \"vevent\"})\n",
        "for event in events:\n",
        "  rows = event.find_all(\"tr\")\n",
        "  first_row = [td.text.strip() for td in rows[0].find_all(\"td\")]\n",
        "  date, h_team, a_team = first_row[0], first_row[1], first_row[3]\n",
        "  arena = rows[0].find(\"th\").text.strip()\n",
        "\n",
        "  date_obj = datetime.strptime(date, '%d %B %Y')\n",
        "  date = date_obj.strftime(\"%m/%d/%Y\")\n",
        "\n",
        "  all_day_event = True\n",
        "  start_time = \"00:00\"\n",
        "  end_time = \"00:00\"\n",
        "  ks_data.append([f\"{h_team} vs. {a_team}\", date, date, start_time,\n",
        "                  end_time, all_day_event, arena])\n",
        "\n",
        "df_ks = pd.DataFrame(data=ks_data, columns=[\"Subject\", \"Start Date\", \"End Date\",\n",
        "                                            \"Start Time\", \"End Time\",\n",
        "                                            \"All Day Event\", \"Location\"])\n",
        "\n",
        "df_ks.to_csv(\"../eurobasket_knockout.csv\")"
      ],
      "metadata": {
        "id": "hAr7u8cmCQT4"
      },
      "execution_count": 53,
      "outputs": []
    },
    {
      "cell_type": "markdown",
      "source": [
        "Merge both files"
      ],
      "metadata": {
        "id": "3Do45DzVE8vI"
      }
    },
    {
      "cell_type": "code",
      "source": [
        "df_full = pd.concat([df_pr, df_ks], axis=0, ignore_index=True)\n",
        "df_full.to_csv(\"../eurobasket_full.csv\")"
      ],
      "metadata": {
        "id": "ObfAaMLKE8P9"
      },
      "execution_count": 57,
      "outputs": []
    }
  ]
}